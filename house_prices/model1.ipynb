{
 "cells": [
  {
   "cell_type": "code",
   "execution_count": 129,
   "source": [
    "import numpy as np\r\n",
    "import pandas as pd\r\n",
    "import seaborn as sns"
   ],
   "outputs": [],
   "metadata": {}
  },
  {
   "cell_type": "code",
   "execution_count": 130,
   "source": [
    "train_data = pd.read_csv('train.csv')\r\n",
    "test_data = pd.read_csv('test.csv')\r\n",
    "\r\n",
    "y = train_data.SalePrice"
   ],
   "outputs": [],
   "metadata": {}
  },
  {
   "cell_type": "code",
   "execution_count": 131,
   "source": [
    "# MSZoning\r\n",
    "conditions = [\r\n",
    "    train_data.MSZoning.str.contains('RL'),\r\n",
    "    train_data.MSZoning.str.contains('RM'),\r\n",
    "    train_data.MSZoning.str.contains('FV'),\r\n",
    "    train_data.MSZoning.str.contains('RH'),\r\n",
    "    train_data.MSZoning.str.contains('C'),\r\n",
    "]\r\n",
    "\r\n",
    "choices = [0,1,2,3,4]\r\n",
    "\r\n",
    "train_data['Zone_class'] = np.select(conditions,choices)\r\n",
    "\r\n",
    "train_data.Zone_class.value_counts()\r\n",
    "\r\n",
    "train_data.MSZoning = train_data.MSZoning.replace(['RL'],'0')\r\n",
    "train_data.MSZoning = train_data.MSZoning.replace(['RM','FV','RH','C (all)'],'1')\r\n",
    "\r\n",
    "train_data.MSZoning.value_counts()\r\n",
    "\r\n"
   ],
   "outputs": [
    {
     "output_type": "execute_result",
     "data": {
      "text/plain": [
       "0    1151\n",
       "1     309\n",
       "Name: MSZoning, dtype: int64"
      ]
     },
     "metadata": {},
     "execution_count": 131
    }
   ],
   "metadata": {}
  },
  {
   "cell_type": "code",
   "execution_count": 132,
   "source": [
    "test_data.MSZoning.fillna(0)"
   ],
   "outputs": [
    {
     "output_type": "execute_result",
     "data": {
      "text/plain": [
       "0       RH\n",
       "1       RL\n",
       "2       RL\n",
       "3       RL\n",
       "4       RL\n",
       "        ..\n",
       "1454    RM\n",
       "1455    RM\n",
       "1456    RL\n",
       "1457    RL\n",
       "1458    RL\n",
       "Name: MSZoning, Length: 1459, dtype: object"
      ]
     },
     "metadata": {},
     "execution_count": 132
    }
   ],
   "metadata": {}
  },
  {
   "cell_type": "code",
   "execution_count": 133,
   "source": [
    "# Test_data\r\n",
    "conditions2 = [\r\n",
    "    test_data.MSZoning.str.contains('RL', na=False),\r\n",
    "    test_data.MSZoning.str.contains('RM', na=False),\r\n",
    "    test_data.MSZoning.str.contains('FV', na=False),\r\n",
    "    test_data.MSZoning.str.contains('RH', na=False),\r\n",
    "    test_data.MSZoning.str.contains('C', na=False),\r\n",
    "]\r\n",
    "\r\n",
    "choices2 = [0,1,2,3,4]\r\n",
    "test_data['Zone_class'] = np.select(conditions2,choices2)\r\n",
    "test_data.MSZoning = test_data.MSZoning.replace(['RL'],'0')\r\n",
    "test_data.MSZoning = test_data.MSZoning.replace(['RM','FV','RH','C (all)'],'1')\r\n",
    "test_data.head()"
   ],
   "outputs": [
    {
     "output_type": "execute_result",
     "data": {
      "text/html": [
       "<div>\n",
       "<style scoped>\n",
       "    .dataframe tbody tr th:only-of-type {\n",
       "        vertical-align: middle;\n",
       "    }\n",
       "\n",
       "    .dataframe tbody tr th {\n",
       "        vertical-align: top;\n",
       "    }\n",
       "\n",
       "    .dataframe thead th {\n",
       "        text-align: right;\n",
       "    }\n",
       "</style>\n",
       "<table border=\"1\" class=\"dataframe\">\n",
       "  <thead>\n",
       "    <tr style=\"text-align: right;\">\n",
       "      <th></th>\n",
       "      <th>Id</th>\n",
       "      <th>MSSubClass</th>\n",
       "      <th>MSZoning</th>\n",
       "      <th>LotFrontage</th>\n",
       "      <th>LotArea</th>\n",
       "      <th>Street</th>\n",
       "      <th>Alley</th>\n",
       "      <th>LotShape</th>\n",
       "      <th>LandContour</th>\n",
       "      <th>Utilities</th>\n",
       "      <th>...</th>\n",
       "      <th>PoolArea</th>\n",
       "      <th>PoolQC</th>\n",
       "      <th>Fence</th>\n",
       "      <th>MiscFeature</th>\n",
       "      <th>MiscVal</th>\n",
       "      <th>MoSold</th>\n",
       "      <th>YrSold</th>\n",
       "      <th>SaleType</th>\n",
       "      <th>SaleCondition</th>\n",
       "      <th>Zone_class</th>\n",
       "    </tr>\n",
       "  </thead>\n",
       "  <tbody>\n",
       "    <tr>\n",
       "      <th>0</th>\n",
       "      <td>1461</td>\n",
       "      <td>20</td>\n",
       "      <td>1</td>\n",
       "      <td>80.0</td>\n",
       "      <td>11622</td>\n",
       "      <td>Pave</td>\n",
       "      <td>NaN</td>\n",
       "      <td>Reg</td>\n",
       "      <td>Lvl</td>\n",
       "      <td>AllPub</td>\n",
       "      <td>...</td>\n",
       "      <td>0</td>\n",
       "      <td>NaN</td>\n",
       "      <td>MnPrv</td>\n",
       "      <td>NaN</td>\n",
       "      <td>0</td>\n",
       "      <td>6</td>\n",
       "      <td>2010</td>\n",
       "      <td>WD</td>\n",
       "      <td>Normal</td>\n",
       "      <td>3</td>\n",
       "    </tr>\n",
       "    <tr>\n",
       "      <th>1</th>\n",
       "      <td>1462</td>\n",
       "      <td>20</td>\n",
       "      <td>0</td>\n",
       "      <td>81.0</td>\n",
       "      <td>14267</td>\n",
       "      <td>Pave</td>\n",
       "      <td>NaN</td>\n",
       "      <td>IR1</td>\n",
       "      <td>Lvl</td>\n",
       "      <td>AllPub</td>\n",
       "      <td>...</td>\n",
       "      <td>0</td>\n",
       "      <td>NaN</td>\n",
       "      <td>NaN</td>\n",
       "      <td>Gar2</td>\n",
       "      <td>12500</td>\n",
       "      <td>6</td>\n",
       "      <td>2010</td>\n",
       "      <td>WD</td>\n",
       "      <td>Normal</td>\n",
       "      <td>0</td>\n",
       "    </tr>\n",
       "    <tr>\n",
       "      <th>2</th>\n",
       "      <td>1463</td>\n",
       "      <td>60</td>\n",
       "      <td>0</td>\n",
       "      <td>74.0</td>\n",
       "      <td>13830</td>\n",
       "      <td>Pave</td>\n",
       "      <td>NaN</td>\n",
       "      <td>IR1</td>\n",
       "      <td>Lvl</td>\n",
       "      <td>AllPub</td>\n",
       "      <td>...</td>\n",
       "      <td>0</td>\n",
       "      <td>NaN</td>\n",
       "      <td>MnPrv</td>\n",
       "      <td>NaN</td>\n",
       "      <td>0</td>\n",
       "      <td>3</td>\n",
       "      <td>2010</td>\n",
       "      <td>WD</td>\n",
       "      <td>Normal</td>\n",
       "      <td>0</td>\n",
       "    </tr>\n",
       "    <tr>\n",
       "      <th>3</th>\n",
       "      <td>1464</td>\n",
       "      <td>60</td>\n",
       "      <td>0</td>\n",
       "      <td>78.0</td>\n",
       "      <td>9978</td>\n",
       "      <td>Pave</td>\n",
       "      <td>NaN</td>\n",
       "      <td>IR1</td>\n",
       "      <td>Lvl</td>\n",
       "      <td>AllPub</td>\n",
       "      <td>...</td>\n",
       "      <td>0</td>\n",
       "      <td>NaN</td>\n",
       "      <td>NaN</td>\n",
       "      <td>NaN</td>\n",
       "      <td>0</td>\n",
       "      <td>6</td>\n",
       "      <td>2010</td>\n",
       "      <td>WD</td>\n",
       "      <td>Normal</td>\n",
       "      <td>0</td>\n",
       "    </tr>\n",
       "    <tr>\n",
       "      <th>4</th>\n",
       "      <td>1465</td>\n",
       "      <td>120</td>\n",
       "      <td>0</td>\n",
       "      <td>43.0</td>\n",
       "      <td>5005</td>\n",
       "      <td>Pave</td>\n",
       "      <td>NaN</td>\n",
       "      <td>IR1</td>\n",
       "      <td>HLS</td>\n",
       "      <td>AllPub</td>\n",
       "      <td>...</td>\n",
       "      <td>0</td>\n",
       "      <td>NaN</td>\n",
       "      <td>NaN</td>\n",
       "      <td>NaN</td>\n",
       "      <td>0</td>\n",
       "      <td>1</td>\n",
       "      <td>2010</td>\n",
       "      <td>WD</td>\n",
       "      <td>Normal</td>\n",
       "      <td>0</td>\n",
       "    </tr>\n",
       "  </tbody>\n",
       "</table>\n",
       "<p>5 rows × 81 columns</p>\n",
       "</div>"
      ],
      "text/plain": [
       "     Id  MSSubClass MSZoning  LotFrontage  LotArea Street Alley LotShape  \\\n",
       "0  1461          20        1         80.0    11622   Pave   NaN      Reg   \n",
       "1  1462          20        0         81.0    14267   Pave   NaN      IR1   \n",
       "2  1463          60        0         74.0    13830   Pave   NaN      IR1   \n",
       "3  1464          60        0         78.0     9978   Pave   NaN      IR1   \n",
       "4  1465         120        0         43.0     5005   Pave   NaN      IR1   \n",
       "\n",
       "  LandContour Utilities  ... PoolArea PoolQC  Fence MiscFeature MiscVal  \\\n",
       "0         Lvl    AllPub  ...        0    NaN  MnPrv         NaN       0   \n",
       "1         Lvl    AllPub  ...        0    NaN    NaN        Gar2   12500   \n",
       "2         Lvl    AllPub  ...        0    NaN  MnPrv         NaN       0   \n",
       "3         Lvl    AllPub  ...        0    NaN    NaN         NaN       0   \n",
       "4         HLS    AllPub  ...        0    NaN    NaN         NaN       0   \n",
       "\n",
       "  MoSold YrSold  SaleType  SaleCondition  Zone_class  \n",
       "0      6   2010        WD         Normal           3  \n",
       "1      6   2010        WD         Normal           0  \n",
       "2      3   2010        WD         Normal           0  \n",
       "3      6   2010        WD         Normal           0  \n",
       "4      1   2010        WD         Normal           0  \n",
       "\n",
       "[5 rows x 81 columns]"
      ]
     },
     "metadata": {},
     "execution_count": 133
    }
   ],
   "metadata": {}
  },
  {
   "cell_type": "code",
   "execution_count": 134,
   "source": [
    "test_data.MSZoning = test_data.MSZoning.fillna(0)"
   ],
   "outputs": [],
   "metadata": {}
  },
  {
   "cell_type": "code",
   "execution_count": 135,
   "source": [
    "# LotFrontage Featurebuilding\r\n",
    "train_data.LotFrontage.fillna(0, inplace=True)\r\n",
    "test_data.LotFrontage.fillna(0, inplace=True)"
   ],
   "outputs": [],
   "metadata": {}
  },
  {
   "cell_type": "code",
   "execution_count": 136,
   "source": [
    "train_data['LotFrontage_new'] = np.where((train_data.LotFrontage > 0 ),1 ,train_data.LotFrontage)\r\n",
    "test_data['LotFrontage_new'] = np.where((test_data.LotFrontage > 0 ),1 ,test_data.LotFrontage)"
   ],
   "outputs": [],
   "metadata": {}
  },
  {
   "cell_type": "code",
   "execution_count": 137,
   "source": [
    "# Alley, null value has to be transformed to \"NO\"\r\n",
    "train_data.Alley = train_data.Alley.fillna(\"NO\")\r\n",
    "test_data.Alley = test_data.Alley.fillna(\"NO\")"
   ],
   "outputs": [],
   "metadata": {}
  },
  {
   "cell_type": "code",
   "execution_count": 138,
   "source": [
    "def transform (data):\r\n",
    "    conditions = [\r\n",
    "        data.Alley.str.contains(\"NO\"),\r\n",
    "        data.Alley.str.contains(\"Grvl\"),\r\n",
    "        data.Alley.str.contains(\"Pave\"),\r\n",
    "    ]\r\n",
    "\r\n",
    "    choices = [ 0,1,2]\r\n",
    "    data[\"Alley_new\"] = np.select(conditions, choices)\r\n",
    "    data.Alley = data.Alley.replace(['NO'], 0)\r\n",
    "    data.Alley = data.Alley.replace(['Grvl','Pave'], 1)"
   ],
   "outputs": [],
   "metadata": {}
  },
  {
   "cell_type": "code",
   "execution_count": 139,
   "source": [
    "transform(train_data)"
   ],
   "outputs": [],
   "metadata": {}
  },
  {
   "cell_type": "code",
   "execution_count": 140,
   "source": [
    "transform(test_data)"
   ],
   "outputs": [],
   "metadata": {}
  },
  {
   "cell_type": "code",
   "execution_count": 141,
   "source": [
    "train_data.LandContour.value_counts()"
   ],
   "outputs": [
    {
     "output_type": "execute_result",
     "data": {
      "text/plain": [
       "Lvl    1311\n",
       "Bnk      63\n",
       "HLS      50\n",
       "Low      36\n",
       "Name: LandContour, dtype: int64"
      ]
     },
     "metadata": {},
     "execution_count": 141
    }
   ],
   "metadata": {}
  },
  {
   "cell_type": "code",
   "execution_count": 142,
   "source": [
    "# Land Contour\r\n",
    "def transform2 (data):\r\n",
    "    conditions = [\r\n",
    "        data.LandContour.str.contains(\"LVL\"),\r\n",
    "        data.LandContour.str.contains(\"Bnk\"),\r\n",
    "        data.LandContour.str.contains(\"HLS\"),\r\n",
    "        data.LandContour.str.contains(\"Low\"),\r\n",
    "    ]\r\n",
    "\r\n",
    "    choices = [ 0,1,2,3]\r\n",
    "    data[\"Alley_new\"] = np.select(conditions, choices)\r\n",
    "    data.Alley = data.LandContour.replace(['LVL'], 0)\r\n",
    "    data.Alley = data.LandContour.replace(['Bnk','Hls','Low'], 1)"
   ],
   "outputs": [],
   "metadata": {}
  },
  {
   "cell_type": "code",
   "execution_count": 144,
   "source": [
    "transform2(train_data)\r\n",
    "train_data.LandContour.value_counts()\r\n",
    "\r\n",
    "#did not work"
   ],
   "outputs": [
    {
     "output_type": "execute_result",
     "data": {
      "text/plain": [
       "Lvl    1311\n",
       "Bnk      63\n",
       "HLS      50\n",
       "Low      36\n",
       "Name: LandContour, dtype: int64"
      ]
     },
     "metadata": {},
     "execution_count": 144
    }
   ],
   "metadata": {}
  }
 ],
 "metadata": {
  "orig_nbformat": 4,
  "language_info": {
   "name": "python",
   "version": "3.8.8",
   "mimetype": "text/x-python",
   "codemirror_mode": {
    "name": "ipython",
    "version": 3
   },
   "pygments_lexer": "ipython3",
   "nbconvert_exporter": "python",
   "file_extension": ".py"
  },
  "kernelspec": {
   "name": "python3",
   "display_name": "Python 3.8.8 64-bit"
  },
  "interpreter": {
   "hash": "e6ad6ef94ad4a60ff55e044ce814bc33ad497b1e5183972321357700cc6a22cf"
  }
 },
 "nbformat": 4,
 "nbformat_minor": 2
}